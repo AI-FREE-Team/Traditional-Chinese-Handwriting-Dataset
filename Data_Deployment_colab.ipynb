{
  "nbformat": 4,
  "nbformat_minor": 0,
  "metadata": {
    "colab": {
      "name": "Data Deployment.ipynb",
      "provenance": []
    },
    "kernelspec": {
      "name": "python3",
      "display_name": "Python 3"
    }
  },
  "cells": [
    {
      "cell_type": "code",
      "metadata": {
        "id": "kNI33w0Fbakh",
        "colab_type": "code",
        "colab": {
          "base_uri": "https://localhost:8080/",
          "height": 123
        },
        "outputId": "4f66eb56-397c-4a8b-e404-1435ac5bb141"
      },
      "source": [
        "!git clone https://github.com/AI-FREE-Team/Traditional-Chinese-Handwriting-Dataset.git"
      ],
      "execution_count": 1,
      "outputs": [
        {
          "output_type": "stream",
          "text": [
            "Cloning into 'Traditional-Chinese-Handwriting-Dataset'...\n",
            "remote: Enumerating objects: 26, done.\u001b[K\n",
            "remote: Counting objects:   3% (1/26)\u001b[K\rremote: Counting objects:   7% (2/26)\u001b[K\rremote: Counting objects:  11% (3/26)\u001b[K\rremote: Counting objects:  15% (4/26)\u001b[K\rremote: Counting objects:  19% (5/26)\u001b[K\rremote: Counting objects:  23% (6/26)\u001b[K\rremote: Counting objects:  26% (7/26)\u001b[K\rremote: Counting objects:  30% (8/26)\u001b[K\rremote: Counting objects:  34% (9/26)\u001b[K\rremote: Counting objects:  38% (10/26)\u001b[K\rremote: Counting objects:  42% (11/26)\u001b[K\rremote: Counting objects:  46% (12/26)\u001b[K\rremote: Counting objects:  50% (13/26)\u001b[K\rremote: Counting objects:  53% (14/26)\u001b[K\rremote: Counting objects:  57% (15/26)\u001b[K\rremote: Counting objects:  61% (16/26)\u001b[K\rremote: Counting objects:  65% (17/26)\u001b[K\rremote: Counting objects:  69% (18/26)\u001b[K\rremote: Counting objects:  73% (19/26)\u001b[K\rremote: Counting objects:  76% (20/26)\u001b[K\rremote: Counting objects:  80% (21/26)\u001b[K\rremote: Counting objects:  84% (22/26)\u001b[K\rremote: Counting objects:  88% (23/26)\u001b[K\rremote: Counting objects:  92% (24/26)\u001b[K\rremote: Counting objects:  96% (25/26)\u001b[K\rremote: Counting objects: 100% (26/26)\u001b[K\rremote: Counting objects: 100% (26/26), done.\u001b[K\n",
            "remote: Compressing objects: 100% (25/25), done.\u001b[K\n",
            "remote: Total 44 (delta 6), reused 9 (delta 1), pack-reused 18\u001b[K\n",
            "Unpacking objects: 100% (44/44), done.\n"
          ],
          "name": "stdout"
        }
      ]
    },
    {
      "cell_type": "code",
      "metadata": {
        "id": "-69nnOJpcLZt",
        "colab_type": "code",
        "colab": {}
      },
      "source": [
        "import os\n",
        "import zipfile\n",
        "import shutil\n",
        "\n",
        "OutputFolder = '/content/Handwritten_Data'"
      ],
      "execution_count": 0,
      "outputs": []
    },
    {
      "cell_type": "code",
      "metadata": {
        "id": "gDA6SQQobuEG",
        "colab_type": "code",
        "colab": {
          "base_uri": "https://localhost:8080/",
          "height": 34
        },
        "outputId": "607dd42f-ac31-41ae-83a8-d5e10eb572e9"
      },
      "source": [
        "if not os.path.exists(OutputFolder):\n",
        "  os.mkdir(OutputFolder)\n",
        "  print( f'Create the new \"{OutputFolder}\" folder' )\n",
        "\n",
        "os.chdir(OutputFolder)\n",
        "\n",
        "### 檢查路徑\n",
        "!pwd"
      ],
      "execution_count": 14,
      "outputs": [
        {
          "output_type": "stream",
          "text": [
            "/content/Handwritten_Data\n"
          ],
          "name": "stdout"
        }
      ]
    },
    {
      "cell_type": "code",
      "metadata": {
        "id": "GcO5DNn_cqpR",
        "colab_type": "code",
        "colab": {
          "base_uri": "https://localhost:8080/",
          "height": 87
        },
        "outputId": "76cf3b03-5011-49e4-ab57-f3ced883787a"
      },
      "source": [
        "CompressedFiles = []\n",
        "\n",
        "os.chdir('/content/Traditional-Chinese-Handwriting-Dataset/data')\n",
        "\n",
        "for item in os.listdir():  \n",
        "  if item.endswith('.zip'): # Check for \".zip\" extension.\n",
        "    file_path = os.path.abspath(item) # Get full path of the compressed file. \n",
        "    CompressedFiles.append(file_path)\n",
        "        \n",
        "for file in CompressedFiles: \n",
        "  # Construct a ZipFile object with the filename, and then extract it.\n",
        "  zip_ref = zipfile.ZipFile(file).extractall(OutputFolder) \n",
        "    \n",
        "  # Traditional Chinese words in \"cleaned_data(50_50)\" folder.\n",
        "  ImageList = os.listdir(OutputFolder + '/cleaned_data(50_50)')\n",
        "  WordList = list(set([w.split('_')[0] for w in ImageList]))\n",
        "        \n",
        "  for w in WordList:\n",
        "    try:  \n",
        "      os.chdir(OutputFolder) # Change the current working directory to OutputPath.\n",
        "      os.mkdir(w) # Create the new word folder in OutputPath.\n",
        "      MoveList = []\n",
        "      MoveList = [img for img in ImageList if w in img]\n",
        "        \n",
        "      if len(MoveList)>0:             \n",
        "        for img in MoveList:\n",
        "          old_path = OutputFolder + '/cleaned_data(50_50)/' + img\n",
        "          new_path = OutputFolder + '/' + w + '/' + img\n",
        "          shutil.move( old_path, new_path ) # Move a file to another location. \n",
        "                \n",
        "    except: pass\n",
        "    \n",
        "  shutil.rmtree( OutputFolder + '/cleaned_data(50_50)' ) \n",
        "  print( f'Decompress successfully {file}.' )"
      ],
      "execution_count": 13,
      "outputs": [
        {
          "output_type": "stream",
          "text": [
            "Decompress successfully /content/Traditional-Chinese-Handwriting-Dataset/data/cleaned_data(50_50)-20200420T071507Z-002.zip.\n",
            "Decompress successfully /content/Traditional-Chinese-Handwriting-Dataset/data/cleaned_data(50_50)-20200420T071507Z-003.zip.\n",
            "Decompress successfully /content/Traditional-Chinese-Handwriting-Dataset/data/cleaned_data(50_50)-20200420T071507Z-004.zip.\n",
            "Decompress successfully /content/Traditional-Chinese-Handwriting-Dataset/data/cleaned_data(50_50)-20200420T071507Z-001.zip.\n"
          ],
          "name": "stdout"
        }
      ]
    },
    {
      "cell_type": "code",
      "metadata": {
        "id": "BtJidZSSed2C",
        "colab_type": "code",
        "colab": {
          "base_uri": "https://localhost:8080/",
          "height": 52
        },
        "outputId": "4e408ef3-89a2-4739-87f0-8b4e6ab63b45"
      },
      "source": [
        "a=0\n",
        "b=0\n",
        "\n",
        "for item in os.listdir(OutputFolder):\n",
        "  a += 1\n",
        "  for i in os.listdir(OutputFolder + '/' + item):\n",
        "    b +=1\n",
        "\n",
        "\n",
        "print('總共: ' + str(a) + ' 個字(資料夾) / 總共: ' + str(b) + '個樣本')\n",
        "print('平均每個字有: ' + str(b/a) + ' 個樣本')"
      ],
      "execution_count": 17,
      "outputs": [
        {
          "output_type": "stream",
          "text": [
            "總共: 4803 個字(資料夾) / 總共: 243161個樣本\n",
            "平均每個字有: 50.62689985425776 個樣本\n"
          ],
          "name": "stdout"
        }
      ]
    },
    {
      "cell_type": "code",
      "metadata": {
        "id": "-HlCG5i4kDnS",
        "colab_type": "code",
        "colab": {}
      },
      "source": [
        ""
      ],
      "execution_count": 0,
      "outputs": []
    }
  ]
}